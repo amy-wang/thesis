{
 "cells": [
  {
   "cell_type": "code",
   "execution_count": 1,
   "metadata": {},
   "outputs": [],
   "source": [
    "import numpy as np"
   ]
  },
  {
   "cell_type": "code",
   "execution_count": 10,
   "metadata": {},
   "outputs": [
    {
     "ename": "SyntaxError",
     "evalue": "unexpected character after line continuation character (<ipython-input-10-7e82b7ee5c2a>, line 3)",
     "output_type": "error",
     "traceback": [
      "\u001b[0;36m  File \u001b[0;32m\"<ipython-input-10-7e82b7ee5c2a>\"\u001b[0;36m, line \u001b[0;32m3\u001b[0m\n\u001b[0;31m    delimiter=\\n)\u001b[0m\n\u001b[0m                 ^\u001b[0m\n\u001b[0;31mSyntaxError\u001b[0m\u001b[0;31m:\u001b[0m unexpected character after line continuation character\n"
     ]
    }
   ],
   "source": [
    "def import_data(file):\n",
    "    data = np.genfromtxt(file,\n",
    "                        delimiter=''\\n')\n",
    "    print(data)"
   ]
  },
  {
   "cell_type": "code",
   "execution_count": 9,
   "metadata": {},
   "outputs": [
    {
     "name": "stdout",
     "output_type": "stream",
     "text": [
      "[4.0881385  3.9741571  3.2215907  1.8930469  4.0579023  2.6641279\n",
      " 1.7536355  4.6950078  4.3797141  2.7507817  3.1123754  2.9352235\n",
      " 1.0387115  1.5062317  2.3546167  1.1524408  4.221544   0.97382145\n",
      " 1.1296089  0.85354024 1.1383215  2.1784934  1.5555114  4.6168982\n",
      " 2.151037   0.9240816  4.5244048  4.8987419  2.1943499  0.55559612\n",
      " 1.2903235  2.0435992  2.9744804  1.3110587  3.0142154  3.5560789\n",
      " 1.1087337  0.58708825 1.4833794  1.5938915  2.1208338  2.5392914\n",
      " 0.42757899 1.3124112  4.0050731  0.14610139 4.6442707  3.6516543\n",
      " 2.4430449  2.8926253  1.1864179  2.2942441  4.8154427  2.7340286\n",
      " 2.6056792  1.1579719  2.4444887  3.1203004  3.3956777  1.9775761\n",
      " 1.8371832  4.93991    0.18869433 4.42584    4.5664341  3.9809194\n",
      " 0.49356139 1.3093559  1.6767842  3.3986398  0.68276569 3.6061375\n",
      " 0.53380931 3.2687867  2.4708697  3.8952586  3.5751854  4.5186028\n",
      " 4.4546125  1.6708153  3.4937292  0.98904913 0.15270473 3.7203713\n",
      " 2.5001122  2.3996107  4.5236112  3.0493332  3.0883319  4.2972115\n",
      " 4.0274471  2.8836076  0.91461235 1.1996601  4.4325597  0.14337076\n",
      " 2.4495069  0.83963573 4.8934032 ]\n"
     ]
    }
   ],
   "source": [
    "import_data('hw1x.dat')"
   ]
  }
 ],
 "metadata": {
  "kernelspec": {
   "display_name": "Python 3",
   "language": "python",
   "name": "python3"
  },
  "language_info": {
   "codemirror_mode": {
    "name": "ipython",
    "version": 3
   },
   "file_extension": ".py",
   "mimetype": "text/x-python",
   "name": "python",
   "nbconvert_exporter": "python",
   "pygments_lexer": "ipython3",
   "version": "3.7.3"
  }
 },
 "nbformat": 4,
 "nbformat_minor": 2
}
