{
 "cells": [
  {
   "cell_type": "code",
   "execution_count": 2,
   "metadata": {},
   "outputs": [],
   "source": [
    "import numpy as np"
   ]
  },
  {
   "cell_type": "code",
   "execution_count": 62,
   "metadata": {},
   "outputs": [],
   "source": [
    "def import_data(file):\n",
    "    data = np.genfromtxt(file, delimiter='\\t', autostrip=True)\n",
    "    return data"
   ]
  },
  {
   "cell_type": "code",
   "execution_count": 72,
   "metadata": {},
   "outputs": [],
   "source": [
    "X = import_data('hw1x.dat')\n",
    "y = import_data('hw1y.dat')\n",
    "X = np.reshape(X, (X.shape[0], 1))\n",
    "y = np.reshape(y, (y.shape[0], 1))"
   ]
  },
  {
   "cell_type": "code",
   "execution_count": 73,
   "metadata": {},
   "outputs": [],
   "source": [
    "def normal_equation(X, y): \n",
    "    arr_ones = np.ones((X.shape[0], 1))\n",
    "    X = np.append(arr_ones, X, axis=1)\n",
    "    x_transpose = np.transpose(X)\n",
    "    \n",
    "    theta = np.dot(x_transpose, X)\n",
    "    theta = np.linalg.inv(theta)\n",
    "    theta = np.dot(theta, x_transpose)\n",
    "    theta = np.dot(theta, y)\n",
    "    return theta"
   ]
  },
  {
   "cell_type": "code",
   "execution_count": 74,
   "metadata": {},
   "outputs": [
    {
     "data": {
      "text/plain": [
       "array([[4.37674032],\n",
       "       [0.52366447]])"
      ]
     },
     "execution_count": 74,
     "metadata": {},
     "output_type": "execute_result"
    }
   ],
   "source": [
    "normal_equation(X, y)"
   ]
  }
 ],
 "metadata": {
  "kernelspec": {
   "display_name": "Python 3",
   "language": "python",
   "name": "python3"
  },
  "language_info": {
   "codemirror_mode": {
    "name": "ipython",
    "version": 3
   },
   "file_extension": ".py",
   "mimetype": "text/x-python",
   "name": "python",
   "nbconvert_exporter": "python",
   "pygments_lexer": "ipython3",
   "version": "3.7.3"
  }
 },
 "nbformat": 4,
 "nbformat_minor": 2
}
